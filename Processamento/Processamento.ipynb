{
 "cells": [
  {
   "cell_type": "code",
   "execution_count": 1,
   "id": "d00d567e",
   "metadata": {},
   "outputs": [],
   "source": [
    "import numpy as np\n",
    "import random\n",
    "import math\n",
    "from numpy import savetxt"
   ]
  },
  {
   "cell_type": "code",
   "execution_count": 2,
   "id": "a739f4dd",
   "metadata": {},
   "outputs": [],
   "source": [
    "#Variáveis globais\n",
    "tree = []\n",
    "walkers = []\n",
    "MAX_grid = 50\n",
    "MIN_grid = 0\n",
    "raio = 1\n",
    "threshold = raio*2 \n",
    "num_iteracoes = 60"
   ]
  },
  {
   "cell_type": "code",
   "execution_count": 3,
   "id": "57f28156",
   "metadata": {},
   "outputs": [],
   "source": [
    "def rand_face():\n",
    "    #escolhe face\n",
    "    rand = random.randint(1,6)\n",
    "    \n",
    "    if rand == 1:\n",
    "        ponto = {\"x\":random.randint(MIN_grid,MAX_grid), \"y\":random.randint(MIN_grid,MAX_grid), \"z\":MIN_grid}\n",
    "    if rand == 2:\n",
    "        ponto = {\"x\":random.randint(MIN_grid,MAX_grid), \"y\":MIN_grid, \"z\":random.randint(MIN_grid,MAX_grid)}\n",
    "    if rand == 3:\n",
    "        ponto = {\"x\":MIN_grid, \"y\":random.randint(MIN_grid,MAX_grid), \"z\":random.randint(MIN_grid,MAX_grid)}\n",
    "    if rand == 4:\n",
    "        ponto = {\"x\":MAX_grid, \"y\":random.randint(MIN_grid,MAX_grid), \"z\":random.randint(MIN_grid,MAX_grid)}\n",
    "    if rand == 5:\n",
    "         ponto = {\"x\":random.randint(MIN_grid,MAX_grid), \"y\":MAX_grid, \"z\":random.randint(MIN_grid,MAX_grid)}\n",
    "    if rand == 6:\n",
    "         ponto = {\"x\":random.randint(MIN_grid,MAX_grid), \"y\":random.randint(MIN_grid,MAX_grid), \"z\":MAX_grid}\n",
    "    return ponto\n"
   ]
  },
  {
   "cell_type": "code",
   "execution_count": 4,
   "id": "cf8c7b72",
   "metadata": {},
   "outputs": [],
   "source": [
    "def cria_lista_caminhos_aleatorios(num=10):\n",
    "    aux = [] \n",
    "    for i in range(num):\n",
    "        ponto = rand_face()\n",
    "        aux.append(ponto)\n",
    "    return aux"
   ]
  },
  {
   "cell_type": "code",
   "execution_count": 5,
   "id": "4257d0b2",
   "metadata": {},
   "outputs": [],
   "source": [
    "def distancia_euclidiana(a,b):\n",
    "    d = math.sqrt(pow((b[\"x\"] - a[\"x\"]),2)+pow((b[\"y\"] - a[\"y\"]),2)+pow((b[\"z\"] - a[\"z\"]),2))\n",
    "    return d\n"
   ]
  },
  {
   "cell_type": "code",
   "execution_count": 6,
   "id": "6a7376ea",
   "metadata": {},
   "outputs": [],
   "source": [
    "def checa_colisao(tree,walkers):\n",
    "    remove = []\n",
    "    for j in range(len(walkers)):\n",
    "        for i in range(len(tree)):\n",
    "            d = distancia_euclidiana(tree[i],walkers[j])\n",
    "            if d < threshold:\n",
    "                #print(\"BOOOM!!!!!!\")\n",
    "                #print(tree[i])\n",
    "                #print(walkers[j])\n",
    "                #print(\"\\n\")\n",
    "                remove.append(j)\n",
    "                break\n",
    "                \n",
    "    remove.sort(reverse=True)\n",
    "    \n",
    "    #print(remove)\n",
    "    #print(len(walkers))\n",
    "    \n",
    "    for i in remove:\n",
    "        aux = walkers.pop(i)\n",
    "        tree.append(aux)\n",
    "        \n",
    "            \n",
    "    return tree, walkers\n",
    "    "
   ]
  },
  {
   "cell_type": "code",
   "execution_count": 7,
   "id": "45327fda",
   "metadata": {},
   "outputs": [],
   "source": [
    "def rand_anda(ponto):\n",
    "    \n",
    "    ponto[\"x\"] += random.randint(-2,2)\n",
    "    while(ponto[\"x\"] > MAX_grid or ponto[\"x\"] < MIN_grid):\n",
    "        ponto[\"x\"] += random.randint(-2,2)\n",
    "        \n",
    "    ponto[\"y\"] += random.randint(-2,2)\n",
    "    while(ponto[\"y\"] > MAX_grid or ponto[\"y\"] < MIN_grid):\n",
    "        ponto[\"y\"] += random.randint(-2,2) \n",
    "        \n",
    "    ponto[\"z\"] += random.randint(-2,2)\n",
    "    while(ponto[\"z\"] > MAX_grid or ponto[\"z\"] < MIN_grid):\n",
    "        ponto[\"z\"] += random.randint(-2,2)\n",
    "            \n",
    "    return ponto\n"
   ]
  },
  {
   "cell_type": "code",
   "execution_count": 8,
   "id": "89d30947",
   "metadata": {},
   "outputs": [],
   "source": [
    "def dicttoarray(lista):\n",
    "    linhas = len(lista)\n",
    "    colunas = 3\n",
    "    \n",
    "    matriz = np.zeros([linhas,colunas],dtype = int)\n",
    "    \n",
    "    for i in range(linhas):\n",
    "        for j in range(colunas):\n",
    "            if j == 0:\n",
    "                matriz[i][j] = lista[i][\"x\"]\n",
    "            if j == 1:\n",
    "                matriz[i][j] = lista[i][\"y\"]\n",
    "            if j == 2: \n",
    "                matriz[i][j] = lista[i][\"z\"]\n",
    "    return matriz"
   ]
  },
  {
   "cell_type": "code",
   "execution_count": 9,
   "id": "d42ce37a",
   "metadata": {},
   "outputs": [
    {
     "name": "stdout",
     "output_type": "stream",
     "text": [
      "Finish\n"
     ]
    }
   ],
   "source": [
    "if __name__ == '__main__':  \n",
    "    #Insere a starting point\n",
    "    ponto = {\"x\":MAX_grid/2, \"y\":MAX_grid/2, \"z\":MAX_grid/2}\n",
    "    tree.append(ponto)\n",
    "        \n",
    "    #Crio os caminhos aleatorios\n",
    "    #posso criar mais walkers aleatorios no momento crio 10\n",
    "    walkers = cria_lista_caminhos_aleatorios(100)\n",
    "    \n",
    "    #for i in range(num_iteracoes):\n",
    "    while(len(tree)<num_iteracoes):\n",
    "        #limpo tela\n",
    "        #limpa_tela()\n",
    "        \n",
    "        #Verifico colisão, se houve colisão tiro de uma lista e ponho na outra\n",
    "        tree, walkers = checa_colisao(tree,walkers)\n",
    "        \n",
    "        #Os que não foram removidos\n",
    "        #Atualizo o X,Y e Z dos caminhantes\n",
    "        for i in range(len(walkers)):\n",
    "            walkers[i] = rand_anda(walkers[i])\n",
    "            #print(walkers[i])\n",
    "        \n",
    "        #Imprimo bolinhas\n",
    "        #desenha_bolinhas(tree)\n",
    "        #desenha_bolinhas(walkers)\n",
    "       \n",
    "    #desenha_bolinhas(tree) \n",
    "    #desenha_cubos(tree)  \n",
    "    #desenha_torus(tree) \n",
    "    print(\"Finish\")\n",
    "        "
   ]
  },
  {
   "cell_type": "code",
   "execution_count": 10,
   "id": "6579d49a",
   "metadata": {},
   "outputs": [],
   "source": [
    "matriz = dicttoarray(tree)"
   ]
  },
  {
   "cell_type": "code",
   "execution_count": 11,
   "id": "1c133292",
   "metadata": {},
   "outputs": [],
   "source": [
    "savetxt(\"lista_3.txt\",matriz,fmt=\"%d\")"
   ]
  },
  {
   "cell_type": "code",
   "execution_count": 12,
   "id": "dad7153a",
   "metadata": {},
   "outputs": [],
   "source": [
    "m = np.loadtxt(\"lista_3.txt\", dtype=int)"
   ]
  }
 ],
 "metadata": {
  "kernelspec": {
   "display_name": "Python 3",
   "language": "python",
   "name": "python3"
  },
  "language_info": {
   "codemirror_mode": {
    "name": "ipython",
    "version": 3
   },
   "file_extension": ".py",
   "mimetype": "text/x-python",
   "name": "python",
   "nbconvert_exporter": "python",
   "pygments_lexer": "ipython3",
   "version": "3.8.8"
  }
 },
 "nbformat": 4,
 "nbformat_minor": 5
}
