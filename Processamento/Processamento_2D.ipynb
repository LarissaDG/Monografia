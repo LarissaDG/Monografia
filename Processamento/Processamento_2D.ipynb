{
  "cells": [
    {
      "cell_type": "code",
      "execution_count": null,
      "metadata": {
        "id": "9e6e575a"
      },
      "outputs": [],
      "source": [
        "import numpy as np\n",
        "import random\n",
        "import math\n",
        "from numpy import savetxt"
      ],
      "id": "9e6e575a"
    },
    {
      "cell_type": "markdown",
      "source": [
        "tree = []\n",
        "walkers = []\n",
        "MAX_grid = 50\n",
        "MIN_grid = 0\n",
        "raio = 1\n",
        "threshold = raio*2 \n",
        "num_iteracoes = 300\n",
        "\n",
        "\n",
        " walkers = cria_lista_caminhos_aleatorios(800)"
      ],
      "metadata": {
        "id": "J2cjFwOa5lQB"
      },
      "id": "J2cjFwOa5lQB"
    },
    {
      "cell_type": "markdown",
      "source": [
        "tree = []\\n\",\n",
        "        \"walkers = []\\n\",\n",
        "        \"MAX_grid = 50\\n\",\n",
        "        \"MIN_grid = 0\\n\",\n",
        "        \"raio = 1\\n\",\n",
        "        \"threshold = raio*2 \\n\",\n",
        "        \"num_iteracoes = 400\"\n",
        "        walkers = cria_lista_caminhos_aleatorios(1000)\\\n",
        "        "
      ],
      "metadata": {
        "id": "yefGQhWn5njb"
      },
      "id": "yefGQhWn5njb"
    },
    {
      "cell_type": "code",
      "execution_count": null,
      "metadata": {
        "id": "f5a371e2"
      },
      "outputs": [],
      "source": [
        "#Variáveis globais\n",
        "tree = []\n",
        "walkers = []\n",
        "MAX_grid = 50\n",
        "MIN_grid = 0\n",
        "raio = 1\n",
        "threshold = raio*2 \n",
        "num_iteracoes = 300"
      ],
      "id": "f5a371e2"
    },
    {
      "cell_type": "code",
      "execution_count": null,
      "metadata": {
        "id": "cb18fa22"
      },
      "outputs": [],
      "source": [
        "def rand_face():\n",
        "    #escolhe face\n",
        "    rand = random.randint(1,4)\n",
        "    \n",
        "    if rand == 1:\n",
        "        ponto = {\"x\":random.randint(MIN_grid,MAX_grid), \"y\":MAX_grid}\n",
        "    if rand == 2:\n",
        "        ponto = {\"x\":random.randint(MIN_grid,MAX_grid), \"y\":MIN_grid}\n",
        "    if rand == 3:\n",
        "        ponto = {\"x\":MIN_grid, \"y\":random.randint(MIN_grid,MAX_grid)}\n",
        "    if rand == 4:\n",
        "        ponto = {\"x\":MAX_grid, \"y\":random.randint(MIN_grid,MAX_grid)}\n",
        "    return ponto"
      ],
      "id": "cb18fa22"
    },
    {
      "cell_type": "code",
      "execution_count": null,
      "metadata": {
        "id": "15156f4e"
      },
      "outputs": [],
      "source": [
        "def cria_lista_caminhos_aleatorios(num=10):\n",
        "    aux = [] \n",
        "    for i in range(num):\n",
        "        ponto = rand_face()\n",
        "        aux.append(ponto)\n",
        "    return aux"
      ],
      "id": "15156f4e"
    },
    {
      "cell_type": "code",
      "execution_count": null,
      "metadata": {
        "id": "c3472b8b"
      },
      "outputs": [],
      "source": [
        "def distancia_euclidiana(a,b):\n",
        "    d = math.sqrt(pow((b[\"x\"] - a[\"x\"]),2)+pow((b[\"y\"] - a[\"y\"]),2))\n",
        "    return d\n"
      ],
      "id": "c3472b8b"
    },
    {
      "cell_type": "code",
      "execution_count": null,
      "metadata": {
        "id": "2dbe14ad"
      },
      "outputs": [],
      "source": [
        "def checa_colisao(tree,walkers):\n",
        "    remove = []\n",
        "    for j in range(len(walkers)):\n",
        "        for i in range(len(tree)):\n",
        "            d = distancia_euclidiana(tree[i],walkers[j])\n",
        "            if d < threshold:\n",
        "                #print(\"BOOOM!!!!!!\")\n",
        "                #print(tree[i])\n",
        "                #print(walkers[j])\n",
        "                #print(\"\\n\")\n",
        "                remove.append(j)\n",
        "                break\n",
        "                \n",
        "    remove.sort(reverse=True)\n",
        "    \n",
        "    #print(remove)\n",
        "    #print(len(walkers))\n",
        "    \n",
        "    for i in remove:\n",
        "        aux = walkers.pop(i)\n",
        "        tree.append(aux)\n",
        "        \n",
        "            \n",
        "    return tree, walkers\n",
        "    "
      ],
      "id": "2dbe14ad"
    },
    {
      "cell_type": "code",
      "execution_count": null,
      "metadata": {
        "id": "18619b52"
      },
      "outputs": [],
      "source": [
        "def rand_anda(ponto):\n",
        "    \n",
        "    ponto[\"x\"] += random.randint(-2,2)\n",
        "    while(ponto[\"x\"] > MAX_grid or ponto[\"x\"] < MIN_grid):\n",
        "        ponto[\"x\"] += random.randint(-2,2)\n",
        "        \n",
        "    ponto[\"y\"] += random.randint(-2,2)\n",
        "    while(ponto[\"y\"] > MAX_grid or ponto[\"y\"] < MIN_grid):\n",
        "         ponto[\"y\"] += random.randint(-2,2)   \n",
        "    return ponto\n"
      ],
      "id": "18619b52"
    },
    {
      "cell_type": "code",
      "execution_count": null,
      "metadata": {
        "id": "aa82f12f"
      },
      "outputs": [],
      "source": [
        "def dicttoarray(lista):\n",
        "    linhas = len(lista)\n",
        "    colunas = 2\n",
        "    \n",
        "    matriz = np.zeros([linhas,colunas],dtype = int)\n",
        "    \n",
        "    for i in range(linhas):\n",
        "        for j in range(colunas):\n",
        "            if j == 0:\n",
        "                matriz[i][j] = lista[i][\"x\"]\n",
        "            if j == 1:\n",
        "                matriz[i][j] = lista[i][\"y\"]\n",
        "    return matriz"
      ],
      "id": "aa82f12f"
    },
    {
      "cell_type": "code",
      "execution_count": null,
      "metadata": {
        "id": "e1b67f7f",
        "colab": {
          "base_uri": "https://localhost:8080/"
        },
        "outputId": "5788beda-1716-4ffc-d4da-f212eaa83af2"
      },
      "outputs": [
        {
          "output_type": "stream",
          "name": "stdout",
          "text": [
            "Finish\n",
            "Finish\n"
          ]
        }
      ],
      "source": [
        "for i_file in range(2):  \n",
        "    #Insere a starting point\n",
        "    #ponto = {\"x\":MAX_grid/2, \"y\":MAX_grid/2}\n",
        "    #ponto = {\"x\":MAX_grid/2, \"y\":MAX_grid}\n",
        "    ponto = {\"x\":MAX_grid/2, \"y\":MAX_grid/2}\n",
        "    tree.append(ponto)\n",
        "        \n",
        "    #Crio os caminhos aleatorios\n",
        "    #posso criar mais walkers aleatorios no momento crio 10\n",
        "    walkers = cria_lista_caminhos_aleatorios(20)\n",
        "    \n",
        "    for i in range(num_iteracoes):\n",
        "    #while(len(tree)<num_iteracoes):\n",
        "        #limpo tela\n",
        "        #limpa_tela()\n",
        "        \n",
        "        #Verifico colisão, se houve colisão tiro de uma lista e ponho na outra\n",
        "        tree, walkers = checa_colisao(tree,walkers)\n",
        "        \n",
        "        #Os que não foram removidos\n",
        "        #Atualizo o X,Y e Z dos caminhantes\n",
        "        for i in range(len(walkers)):\n",
        "            walkers[i] = rand_anda(walkers[i])\n",
        "            #print(walkers[i])\n",
        "        \n",
        "        #Imprimo bolinhas\n",
        "        #desenha_bolinhas(tree)\n",
        "        #desenha_bolinhas(walkers)\n",
        "       \n",
        "    #desenha_bolinhas(tree) \n",
        "    #desenha_cubos(tree)  \n",
        "    #desenha_torus(tree) \n",
        "    print(\"Finish\")\n",
        "\n",
        "    tree = []\n",
        "\n",
        "    matriz = dicttoarray(tree)\n",
        "    savetxt(\"lista_2D_{}.txt\".format(i_file),matriz,fmt=\"%d\")\n"
      ],
      "id": "e1b67f7f"
    },
    {
      "cell_type": "code",
      "execution_count": null,
      "metadata": {
        "id": "56bc14d7"
      },
      "outputs": [],
      "source": [
        "matriz = dicttoarray(tree)"
      ],
      "id": "56bc14d7"
    },
    {
      "cell_type": "code",
      "execution_count": null,
      "metadata": {
        "id": "595a3975"
      },
      "outputs": [],
      "source": [
        "savetxt(\"lista_2D_{}.txt\".format(file_i),matriz,fmt=\"%d\")\n",
        "file_i += 1"
      ],
      "id": "595a3975"
    },
    {
      "cell_type": "code",
      "execution_count": null,
      "metadata": {
        "id": "b9caf809"
      },
      "outputs": [],
      "source": [
        "m = np.loadtxt(\"lista_2D_{}.txt\".format(file_i-1), dtype=int)"
      ],
      "id": "b9caf809"
    },
    {
      "cell_type": "markdown",
      "source": [
        "# Circulo"
      ],
      "metadata": {
        "id": "QC7IDotUS7sx"
      },
      "id": "QC7IDotUS7sx"
    },
    {
      "cell_type": "code",
      "source": [
        "def rotate_z(vector, theta):\n",
        "    R_z = np.array([\n",
        "        [np.cos(theta), -np.sin(theta), 0],\n",
        "        [np.sin(theta), np.cos(theta),  0],\n",
        "        [0,             0,              1]\n",
        "    ])\n",
        "    return R_z @ vector\n",
        "\n",
        "def create_circle(r, B):\n",
        "    start_v = np.array([r, 0, 0])\n",
        "    rot_ang = np.pi / B\n",
        "    base_pos_vs = [rotate_z(start_v, i*rot_ang) for i in range(B)] + [np.array([-r, 0, 0])]\n",
        "    base_pos_vs = [np.array([x,y]) for x,y,z in base_pos_vs]\n",
        "    base_neg_vs = [np.array([-x,-y]) for x,y in base_pos_vs][::-1]\n",
        "    return np.array(base_pos_vs + base_neg_vs)"
      ],
      "metadata": {
        "id": "9nPnSPDBPoqL"
      },
      "id": "9nPnSPDBPoqL",
      "execution_count": null,
      "outputs": []
    },
    {
      "cell_type": "code",
      "source": [
        "import matplotlib.pyplot as plt\n",
        "cir_ps = create_circle(20, 40)\n",
        "initialize_tree = [{'x':x, 'y':y} for x,y in cir_ps]\n",
        "plt.scatter(cir_ps.T[0], cir_ps.T[1])"
      ],
      "metadata": {
        "colab": {
          "base_uri": "https://localhost:8080/",
          "height": 282
        },
        "id": "3TxqIKdOTByc",
        "outputId": "ecf90a9d-476a-4665-a32c-4514c8b8de64"
      },
      "id": "3TxqIKdOTByc",
      "execution_count": null,
      "outputs": [
        {
          "output_type": "execute_result",
          "data": {
            "text/plain": [
              "<matplotlib.collections.PathCollection at 0x7fa38e9edfd0>"
            ]
          },
          "metadata": {},
          "execution_count": 49
        },
        {
          "output_type": "display_data",
          "data": {
            "image/png": "[encoded data removed]",
            "text/plain": [
              "<Figure size 432x288 with 1 Axes>"
            ]
          },
          "metadata": {
            "needs_background": "light"
          }
        }
      ]
    },
    {
      "cell_type": "code",
      "source": [
        "def walk_init(num=10):\n",
        "    aux = [] \n",
        "    for i in range(num):\n",
        "        ponto = {\"x\":0, \"y\":0}\n",
        "        aux.append(ponto)\n",
        "    return aux"
      ],
      "metadata": {
        "id": "fTSZDw4GW85L"
      },
      "id": "fTSZDw4GW85L",
      "execution_count": null,
      "outputs": []
    },
    {
      "cell_type": "code",
      "source": [
        "def rand_anda(ponto):\n",
        "    \n",
        "    ponto[\"x\"] += random.randint(-2,2)\n",
        "        \n",
        "    ponto[\"y\"] += random.randint(-2,2)\n",
        "  \n",
        "    return ponto\n"
      ],
      "metadata": {
        "id": "wwtX_1omc5IU"
      },
      "id": "wwtX_1omc5IU",
      "execution_count": null,
      "outputs": []
    },
    {
      "cell_type": "code",
      "source": [
        "#for i_file in range(20):  \n",
        "#Insere a starting point\n",
        "#ponto = {\"x\":MAX_grid/2, \"y\":MAX_grid/2}\n",
        "#ponto = {\"x\":MAX_grid/2, \"y\":MAX_grid}\n",
        "#ponto = {\"x\":MAX_grid/2, \"y\":MAX_grid/2}\n",
        "tree = initialize_tree\n",
        "    \n",
        "#Crio os caminhos aleatorios\n",
        "#posso criar mais walkers aleatorios no momento crio 10\n",
        "walkers = walk_init(300)\n",
        "\n",
        "for i in range(num_iteracoes):\n",
        "#while(len(tree)<num_iteracoes):\n",
        "    #limpo tela\n",
        "    #limpa_tela()\n",
        "    \n",
        "    #Verifico colisão, se houve colisão tiro de uma lista e ponho na outra\n",
        "    tree, walkers = checa_colisao(tree,walkers)\n",
        "    \n",
        "    #Os que não foram removidos\n",
        "    #Atualizo o X,Y e Z dos caminhantes\n",
        "    for i in range(len(walkers)):\n",
        "        walkers[i] = rand_anda(walkers[i])\n",
        "        #print(walkers[i])\n",
        "    \n",
        "    #Imprimo bolinhas\n",
        "    #desenha_bolinhas(tree)\n",
        "    #desenha_bolinhas(walkers)\n",
        "    \n",
        "#desenha_bolinhas(tree) \n",
        "#desenha_cubos(tree)  \n",
        "#desenha_torus(tree) \n",
        "print(\"Finish\")\n",
        "\n",
        "matriz = dicttoarray(tree)\n",
        "savetxt(\"lista_2D_{}.txt\".format(i_file),matriz,fmt=\"%d\")\n"
      ],
      "metadata": {
        "id": "PjGKZfdpT9SB",
        "colab": {
          "base_uri": "https://localhost:8080/"
        },
        "outputId": "2407a908-46cd-4cf1-8190-145ef94603c2"
      },
      "id": "PjGKZfdpT9SB",
      "execution_count": null,
      "outputs": [
        {
          "output_type": "stream",
          "name": "stdout",
          "text": [
            "Finish\n"
          ]
        }
      ]
    },
    {
      "cell_type": "code",
      "source": [
        "matriz = dicttoarray(tree)"
      ],
      "metadata": {
        "id": "C473msk8YFjE"
      },
      "id": "C473msk8YFjE",
      "execution_count": null,
      "outputs": []
    }
  ],
  "metadata": {
    "colab": {
      "collapsed_sections": [],
      "name": "Processamento 2D.ipynb",
      "provenance": []
    },
    "kernelspec": {
      "display_name": "Python 3",
      "language": "python",
      "name": "python3"
    },
    "language_info": {
      "codemirror_mode": {
        "name": "ipython",
        "version": 3
      },
      "file_extension": ".py",
      "mimetype": "text/x-python",
      "name": "python",
      "nbconvert_exporter": "python",
      "pygments_lexer": "ipython3",
      "version": "3.8.8"
    }
  },
  "nbformat": 4,
  "nbformat_minor": 5
}