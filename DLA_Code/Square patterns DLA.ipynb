{
  "cells": [
    {
      "cell_type": "code",
      "execution_count": 1,
      "metadata": {
        "id": "9e6e575a"
      },
      "outputs": [],
      "source": [
        "import numpy as np\n",
        "import random\n",
        "import math\n",
        "from numpy import savetxt"
      ],
      "id": "9e6e575a"
    },
    {
      "cell_type": "code",
      "execution_count": 2,
      "metadata": {
        "id": "f5a371e2"
      },
      "outputs": [],
      "source": [
        "#Variáveis globais\n",
        "tree = []\n",
        "walkers = []\n",
        "MAX_grid = 50\n",
        "MIN_grid = 0\n",
        "raio = 1\n",
        "threshold = raio*2 \n",
        "num_iteracoes = 400"
      ],
      "id": "f5a371e2"
    },
    {
      "cell_type": "code",
      "execution_count": 3,
      "metadata": {
        "id": "cb18fa22"
      },
      "outputs": [],
      "source": [
        "def rand_face():\n",
        "    #escolhe face\n",
        "    rand = random.randint(1,4)\n",
        "    \n",
        "    if rand == 1:\n",
        "        ponto = {\"x\":random.randint(MIN_grid,MAX_grid), \"y\":MAX_grid}\n",
        "    if rand == 2:\n",
        "        ponto = {\"x\":random.randint(MIN_grid,MAX_grid), \"y\":MIN_grid}\n",
        "    if rand == 3:\n",
        "        ponto = {\"x\":MIN_grid, \"y\":random.randint(MIN_grid,MAX_grid)}\n",
        "    if rand == 4:\n",
        "        ponto = {\"x\":MAX_grid, \"y\":random.randint(MIN_grid,MAX_grid)}\n",
        "    return ponto"
      ],
      "id": "cb18fa22"
    },
    {
      "cell_type": "code",
      "execution_count": 4,
      "metadata": {
        "id": "15156f4e"
      },
      "outputs": [],
      "source": [
        "def cria_lista_caminhos_aleatorios(num=10):\n",
        "    aux = [] \n",
        "    for i in range(num):\n",
        "        ponto = rand_face()\n",
        "        aux.append(ponto)\n",
        "    return aux"
      ],
      "id": "15156f4e"
    },
    {
      "cell_type": "code",
      "execution_count": 5,
      "metadata": {
        "id": "c3472b8b"
      },
      "outputs": [],
      "source": [
        "def distancia_euclidiana(a,b):\n",
        "    d = math.sqrt(pow((b[\"x\"] - a[\"x\"]),2)+pow((b[\"y\"] - a[\"y\"]),2))\n",
        "    return d\n"
      ],
      "id": "c3472b8b"
    },
    {
      "cell_type": "code",
      "execution_count": 6,
      "metadata": {
        "id": "2dbe14ad"
      },
      "outputs": [],
      "source": [
        "def checa_colisao(tree,walkers):\n",
        "    remove = []\n",
        "    for j in range(len(walkers)):\n",
        "        for i in range(len(tree)):\n",
        "            d = distancia_euclidiana(tree[i],walkers[j])\n",
        "            if d < threshold:\n",
        "                #print(\"BOOOM!!!!!!\")\n",
        "                #print(tree[i])\n",
        "                #print(walkers[j])\n",
        "                #print(\"\\n\")\n",
        "                remove.append(j)\n",
        "                break\n",
        "                \n",
        "    remove.sort(reverse=True)\n",
        "    \n",
        "    #print(remove)\n",
        "    #print(len(walkers))\n",
        "    \n",
        "    for i in remove:\n",
        "        aux = walkers.pop(i)\n",
        "        tree.append(aux)\n",
        "        \n",
        "            \n",
        "    return tree, walkers\n",
        "    "
      ],
      "id": "2dbe14ad"
    },
    {
      "cell_type": "code",
      "execution_count": 7,
      "metadata": {
        "id": "18619b52"
      },
      "outputs": [],
      "source": [
        "def rand_anda(ponto):\n",
        "    \n",
        "    ponto[\"x\"] += random.randint(-2,2)\n",
        "    while(ponto[\"x\"] > MAX_grid or ponto[\"x\"] < MIN_grid):\n",
        "        ponto[\"x\"] += random.randint(-2,2)\n",
        "        \n",
        "    ponto[\"y\"] += random.randint(-2,2)\n",
        "    while(ponto[\"y\"] > MAX_grid or ponto[\"y\"] < MIN_grid):\n",
        "         ponto[\"y\"] += random.randint(-2,2)   \n",
        "    return ponto\n"
      ],
      "id": "18619b52"
    },
    {
      "cell_type": "code",
      "execution_count": 8,
      "metadata": {
        "id": "aa82f12f"
      },
      "outputs": [],
      "source": [
        "def dicttoarray(lista):\n",
        "    linhas = len(lista)\n",
        "    colunas = 2\n",
        "    \n",
        "    matriz = np.zeros([linhas,colunas],dtype = int)\n",
        "    \n",
        "    for i in range(linhas):\n",
        "        for j in range(colunas):\n",
        "            if j == 0:\n",
        "                matriz[i][j] = lista[i][\"x\"]\n",
        "            if j == 1:\n",
        "                matriz[i][j] = lista[i][\"y\"]\n",
        "    return matriz"
      ],
      "id": "aa82f12f"
    },
    {
      "cell_type": "code",
      "execution_count": 9,
      "metadata": {
        "colab": {
          "base_uri": "https://localhost:8080/"
        },
        "id": "e1b67f7f",
        "outputId": "2eafd99a-51d6-474a-8d2d-4d06488b5331"
      },
      "outputs": [
        {
          "output_type": "stream",
          "name": "stdout",
          "text": [
            "Finish\n"
          ]
        }
      ],
      "source": [
        "if __name__ == '__main__':  \n",
        "    #Insere a starting point\n",
        "    #ponto = {\"x\":MAX_grid/2, \"y\":MAX_grid/2}\n",
        "    #ponto = {\"x\":MAX_grid/2, \"y\":MAX_grid}\n",
        "    ponto = {\"x\":MAX_grid/2, \"y\":MAX_grid/2}\n",
        "    tree.append(ponto)\n",
        "        \n",
        "    #Crio os caminhos aleatorios\n",
        "    #posso criar mais walkers aleatorios no momento crio 10\n",
        "    walkers = cria_lista_caminhos_aleatorios(1000)\n",
        "    \n",
        "    for i in range(num_iteracoes):\n",
        "    #while(len(tree)<num_iteracoes):\n",
        "        #limpo tela\n",
        "        #limpa_tela()\n",
        "        \n",
        "        #Verifico colisão, se houve colisão tiro de uma lista e ponho na outra\n",
        "        tree, walkers = checa_colisao(tree,walkers)\n",
        "        \n",
        "        #Os que não foram removidos\n",
        "        #Atualizo o X,Y e Z dos caminhantes\n",
        "        for i in range(len(walkers)):\n",
        "            walkers[i] = rand_anda(walkers[i])\n",
        "            #print(walkers[i])\n",
        "        \n",
        "        #Imprimo bolinhas\n",
        "        #desenha_bolinhas(tree)\n",
        "        #desenha_bolinhas(walkers)\n",
        "       \n",
        "    #desenha_bolinhas(tree) \n",
        "    #desenha_cubos(tree)  \n",
        "    #desenha_torus(tree) \n",
        "    print(\"Finish\")\n",
        "        "
      ],
      "id": "e1b67f7f"
    },
    {
      "cell_type": "code",
      "execution_count": 10,
      "metadata": {
        "id": "56bc14d7"
      },
      "outputs": [],
      "source": [
        "matriz = dicttoarray(tree)"
      ],
      "id": "56bc14d7"
    },
    {
      "cell_type": "code",
      "execution_count": 11,
      "metadata": {
        "id": "595a3975"
      },
      "outputs": [],
      "source": [
        "savetxt(\"lista_2D_2.txt\",matriz,fmt=\"%d\")"
      ],
      "id": "595a3975"
    },
    {
      "cell_type": "code",
      "execution_count": 12,
      "metadata": {
        "id": "b9caf809"
      },
      "outputs": [],
      "source": [
        "m = np.loadtxt(\"lista_2D_2.txt\", dtype=int)"
      ],
      "id": "b9caf809"
    },
    {
      "cell_type": "code",
      "execution_count": 12,
      "metadata": {
        "id": "010954e2"
      },
      "outputs": [],
      "source": [
        ""
      ],
      "id": "010954e2"
    }
  ],
  "metadata": {
    "colab": {
      "collapsed_sections": [],
      "name": "Processamento 2D.ipynb",
      "provenance": []
    },
    "kernelspec": {
      "display_name": "Python 3",
      "language": "python",
      "name": "python3"
    },
    "language_info": {
      "codemirror_mode": {
        "name": "ipython",
        "version": 3
      },
      "file_extension": ".py",
      "mimetype": "text/x-python",
      "name": "python",
      "nbconvert_exporter": "python",
      "pygments_lexer": "ipython3",
      "version": "3.8.8"
    }
  },
  "nbformat": 4,
  "nbformat_minor": 5
}